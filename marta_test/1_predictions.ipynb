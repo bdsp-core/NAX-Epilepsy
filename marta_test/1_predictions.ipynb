{
 "cells": [
  {
   "cell_type": "markdown",
   "metadata": {},
   "source": [
    "This notebook uses the EPILEPSY_PREDICTIONS conda environment\n",
    "\n",
    "`conda env create -f epilepsy_predictions.yml`  \n",
    "  \n",
    "`conda activate epilepsy_predictions`  \n",
    "\n",
    "Alternatively, you can create your own environment with the necessary packages:\n",
    "- python=3.9\n",
    "- scikit-learn=0.24.2\n",
    "- dill\n",
    "- numpy\n",
    "- ipykernel\n",
    "- polars"
   ]
  },
  {
   "cell_type": "code",
   "execution_count": 5,
   "metadata": {},
   "outputs": [],
   "source": [
    "import dill\n",
    "import polars as pl\n",
    "import numpy as np\n",
    "\n",
    "model = dill.load(open('lr_meds_icds_dem_text__no_prodigy_binary_model.sav', 'rb'))\n",
    "df = pl.read_parquet('features/fm.parquet')\n",
    "preds = model.predict_proba(df)\n",
    "\n",
    "# this hardcoded threshold is drawn from the X_train data in the original model's code\n",
    "# the precision is the same\n",
    "threshold = np.float64(0.4675610608142482)\n",
    "\n",
    "df = df.with_columns(pl.Series(name='prob_NO', values=preds[:, 0]))\n",
    "df = df.with_columns(pl.Series(name='prob_YES', values=preds[:, 1]))\n",
    "df = df.with_columns(pl.when(pl.col('prob_YES') >= threshold).then(1).otherwise(0).alias('prediction'))"
   ]
  },
  {
   "cell_type": "code",
   "execution_count": 40,
   "metadata": {},
   "outputs": [
    {
     "data": {
      "text/html": [
       "<div><style>\n",
       ".dataframe > thead > tr,\n",
       ".dataframe > tbody > tr {\n",
       "  text-align: right;\n",
       "  white-space: pre-wrap;\n",
       "}\n",
       "</style>\n",
       "<small>shape: (5, 3)</small><table border=\"1\" class=\"dataframe\"><thead><tr><th>prob_NO</th><th>prob_YES</th><th>prediction</th></tr><tr><td>f64</td><td>f64</td><td>i32</td></tr></thead><tbody><tr><td>0.946808</td><td>0.053192</td><td>0</td></tr><tr><td>0.995955</td><td>0.004045</td><td>0</td></tr><tr><td>0.68135</td><td>0.31865</td><td>0</td></tr><tr><td>0.98437</td><td>0.01563</td><td>0</td></tr><tr><td>0.299859</td><td>0.700141</td><td>1</td></tr></tbody></table></div>"
      ],
      "text/plain": [
       "shape: (5, 3)\n",
       "┌──────────┬──────────┬────────────┐\n",
       "│ prob_NO  ┆ prob_YES ┆ prediction │\n",
       "│ ---      ┆ ---      ┆ ---        │\n",
       "│ f64      ┆ f64      ┆ i32        │\n",
       "╞══════════╪══════════╪════════════╡\n",
       "│ 0.946808 ┆ 0.053192 ┆ 0          │\n",
       "│ 0.995955 ┆ 0.004045 ┆ 0          │\n",
       "│ 0.68135  ┆ 0.31865  ┆ 0          │\n",
       "│ 0.98437  ┆ 0.01563  ┆ 0          │\n",
       "│ 0.299859 ┆ 0.700141 ┆ 1          │\n",
       "└──────────┴──────────┴────────────┘"
      ]
     },
     "metadata": {},
     "output_type": "display_data"
    },
    {
     "name": "stdout",
     "output_type": "stream",
     "text": [
      "Total YES predictions: 6293\n",
      "Total NO predictions: 39006\n",
      "Total unique patients: 267\n",
      "Total unique patients WITH YES prediction: 88\n",
      "Total unique patients WITHOUT YES prediction: 179\n"
     ]
    }
   ],
   "source": [
    "display(df.select(\n",
    "    [\n",
    "        'prob_NO',\n",
    "        'prob_YES',\n",
    "        'prediction'\n",
    "    ]\n",
    ").head())\n",
    "\n",
    "print('Total YES predictions:', df.select(pl.col('prediction')).sum().item())\n",
    "print('Total NO predictions:', len(df) - df.select(pl.col('prediction')).sum().item())\n",
    "final = pl.read_parquet('features/fm_all_cols.parquet').select(['bdsp_patient_id', 'date_note']).hstack(df.select(['prob_NO', 'prob_YES', 'prediction']))\n",
    "print('Total unique patients:', final['bdsp_patient_id'].n_unique())\n",
    "print('Total unique patients WITH YES prediction:', final.filter(pl.col('prediction') == 1)['bdsp_patient_id'].n_unique())\n",
    "print('Total unique patients WITHOUT YES prediction:', final['bdsp_patient_id'].n_unique() - final.filter(pl.col('prediction') == 1)['bdsp_patient_id'].n_unique())"
   ]
  },
  {
   "cell_type": "code",
   "execution_count": 41,
   "metadata": {},
   "outputs": [],
   "source": [
    "final.write_parquet('predictions/predictions.parquet')"
   ]
  }
 ],
 "metadata": {
  "kernelspec": {
   "display_name": "epilepsy_model",
   "language": "python",
   "name": "python3"
  },
  "language_info": {
   "codemirror_mode": {
    "name": "ipython",
    "version": 3
   },
   "file_extension": ".py",
   "mimetype": "text/x-python",
   "name": "python",
   "nbconvert_exporter": "python",
   "pygments_lexer": "ipython3",
   "version": "3.9.20"
  }
 },
 "nbformat": 4,
 "nbformat_minor": 2
}
